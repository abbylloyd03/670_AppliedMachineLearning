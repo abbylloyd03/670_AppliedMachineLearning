{
 "cells": [
  {
   "cell_type": "markdown",
   "id": "bd201139-3484-4a66-aeb9-ef8469fff546",
   "metadata": {},
   "source": [
    "### Read the CSV file:"
   ]
  },
  {
   "cell_type": "code",
   "execution_count": 1,
   "id": "8c48501b-696f-4d2e-934e-efb61890dde0",
   "metadata": {},
   "outputs": [
    {
     "name": "stdout",
     "output_type": "stream",
     "text": [
      "    mpg  cylinders  displacement horsepower  weight  acceleration  model year  \\\n",
      "0  18.0          8         307.0        130    3504          12.0          70   \n",
      "1  15.0          8         350.0        165    3693          11.5          70   \n",
      "2  18.0          8         318.0        150    3436          11.0          70   \n",
      "3  16.0          8         304.0        150    3433          12.0          70   \n",
      "4  17.0          8         302.0        140    3449          10.5          70   \n",
      "5  15.0          8         429.0        198    4341          10.0          70   \n",
      "6  14.0          8         454.0        220    4354           9.0          70   \n",
      "7  14.0          8         440.0        215    4312           8.5          70   \n",
      "8  14.0          8         455.0        225    4425          10.0          70   \n",
      "9  15.0          8         390.0        190    3850           8.5          70   \n",
      "\n",
      "   origin                   car name  \n",
      "0       1  chevrolet chevelle malibu  \n",
      "1       1          buick skylark 320  \n",
      "2       1         plymouth satellite  \n",
      "3       1              amc rebel sst  \n",
      "4       1                ford torino  \n",
      "5       1           ford galaxie 500  \n",
      "6       1           chevrolet impala  \n",
      "7       1          plymouth fury iii  \n",
      "8       1           pontiac catalina  \n",
      "9       1         amc ambassador dpl  \n"
     ]
    }
   ],
   "source": [
    "import pandas as pd\n",
    "import numpy as np\n",
    "autompg = pd.read_csv(\"auto-mpg.csv\")\n",
    "\n",
    "print(autompg.head(n=10))"
   ]
  },
  {
   "cell_type": "markdown",
   "id": "908a7355-a9e0-4f4a-9c2d-598f2bf3ec79",
   "metadata": {},
   "source": [
    "### Train/Test Data Split"
   ]
  },
  {
   "cell_type": "code",
   "execution_count": 2,
   "id": "bdd19216-d3ac-4b40-babc-e77bf1841797",
   "metadata": {},
   "outputs": [
    {
     "name": "stdout",
     "output_type": "stream",
     "text": [
      "Train size:  318 Test size:  80\n"
     ]
    }
   ],
   "source": [
    "from sklearn.model_selection import train_test_split\n",
    "\n",
    "train_set, test_set = train_test_split(autompg, \n",
    "                        test_size=0.2, random_state=123)\n",
    "print('Train size: ', len(train_set), 'Test size: ', len(test_set))"
   ]
  },
  {
   "cell_type": "markdown",
   "id": "25de8eff-5962-4c76-bf22-5b4aab0c312b",
   "metadata": {},
   "source": [
    "### Train and Evaluate a Linear Regression Model"
   ]
  },
  {
   "cell_type": "code",
   "execution_count": 3,
   "id": "4960fdcc-ce4d-4de5-9f8e-c6eb83b17a4b",
   "metadata": {},
   "outputs": [
    {
     "name": "stdout",
     "output_type": "stream",
     "text": [
      "Results for linear regression on training data\n",
      "  Default settings\n",
      "Internal parameters:\n",
      "   Bias is  46.37040163155278\n",
      "   Coefficients [-0.61080829 -0.00653599]\n",
      "   Score 0.6995694274153458\n",
      "MAE is    3.224227443492472\n",
      "RMSE is   4.29986369578714\n",
      "MSE is    18.488827802348244\n",
      "R^2       0.6995694274153458\n",
      "\n",
      "Results for linear regression on test data\n",
      "MAE is    3.464656343580139\n",
      "RMSE is   4.316753176508568\n",
      "MSE is    18.63435798689681\n",
      "R^2       0.6805115080359773\n"
     ]
    }
   ],
   "source": [
    "from sklearn.linear_model import LinearRegression\n",
    "from sklearn.metrics import mean_absolute_error\n",
    "from sklearn.metrics import mean_squared_error\n",
    "from sklearn.metrics import r2_score\n",
    "\n",
    "X = train_set[['cylinders', 'weight']]\n",
    "y = train_set['mpg']\n",
    "\n",
    "X_test = test_set[['cylinders', 'weight']]\n",
    "y_test = test_set['mpg']\n",
    "\n",
    "lr_model = LinearRegression()\n",
    "lr_model.fit(X, y)\n",
    "\n",
    "y_pred = lr_model.predict(X)\n",
    "print('Results for linear regression on training data')\n",
    "print('  Default settings')\n",
    "print('Internal parameters:')\n",
    "print('   Bias is ', lr_model.intercept_)\n",
    "print('   Coefficients', lr_model.coef_)\n",
    "print('   Score', lr_model.score(X, y))\n",
    "\n",
    "print('MAE is   ', mean_absolute_error(y, y_pred))\n",
    "print('RMSE is  ', np.sqrt(mean_squared_error(y, y_pred)))\n",
    "print('MSE is   ', mean_squared_error(y, y_pred))\n",
    "print('R^2      ', r2_score(y, y_pred))\n",
    "\n",
    "y_test_pred = lr_model.predict(X_test)\n",
    "print()\n",
    "print('Results for linear regression on test data')\n",
    "\n",
    "print('MAE is   ', mean_absolute_error(y_test, y_test_pred))\n",
    "print('RMSE is  ', np.sqrt(mean_squared_error(y_test, y_test_pred)))\n",
    "print('MSE is   ', mean_squared_error(y_test, y_test_pred))\n",
    "print('R^2      ', r2_score(y_test, y_test_pred))"
   ]
  },
  {
   "cell_type": "code",
   "execution_count": 4,
   "id": "7e0327b7-8297-4ed3-b0b3-ad8d83532cdb",
   "metadata": {},
   "outputs": [
    {
     "name": "stdout",
     "output_type": "stream",
     "text": [
      "Weight:  1613 - 5140\n",
      "Cylinders:  3 - 8\n"
     ]
    }
   ],
   "source": [
    "print('Weight: ', autompg['weight'].min(), '-', autompg['weight'].max())\n",
    "print('Cylinders: ', autompg['cylinders'].min(), '-', autompg['cylinders'].max())"
   ]
  },
  {
   "cell_type": "markdown",
   "id": "1b3891e3-76b0-436f-b959-2c8a12498732",
   "metadata": {},
   "source": [
    "### Pipelined Linear Regression Model"
   ]
  },
  {
   "cell_type": "code",
   "execution_count": 6,
   "id": "10ff81e9-e903-4caa-9814-41cb9262f358",
   "metadata": {},
   "outputs": [
    {
     "name": "stdout",
     "output_type": "stream",
     "text": [
      "Results for pipeline linear regression on training data\n",
      "   Bias is  [46.37040163]\n",
      "   Score 0.6995694274153458\n",
      "MAE is   3.224227443492473\n",
      "RMSE is  4.29986369578714\n",
      "MSE is  18.488827802348244\n",
      "R^2     0.6995694274153458\n",
      "\n",
      "Results for pipeline linear regression on test data\n",
      "MAE is   3.4646563435801396\n",
      "RMSE is  4.316753176508568\n",
      "MSE is  18.634357986896813\n",
      "R^2     0.6805115080359772\n"
     ]
    },
    {
     "name": "stderr",
     "output_type": "stream",
     "text": [
      "/opt/miniconda3/envs/sklearn-env/lib/python3.10/site-packages/sklearn/base.py:450: UserWarning: X does not have valid feature names, but SimpleImputer was fitted with feature names\n",
      "  warnings.warn(\n"
     ]
    }
   ],
   "source": [
    "from sklearn.linear_model import LinearRegression\n",
    "from sklearn.metrics import mean_absolute_error\n",
    "from sklearn.metrics import mean_squared_error\n",
    "from sklearn.metrics import r2_score\n",
    "from sklearn.pipeline import Pipeline\n",
    "from sklearn.impute import SimpleImputer\n",
    "from sklearn.preprocessing import StandardScaler\n",
    "\n",
    "X = train_set[['cylinders', 'weight']]\n",
    "y = train_set['mpg']\n",
    "\n",
    "X_test = test_set[['cylinders', 'weight']]\n",
    "y_test = test_set['mpg']\n",
    "\n",
    "imp_median = SimpleImputer(missing_values=np.nan, strategy='median')\n",
    "scale = StandardScaler()\n",
    "\n",
    "lr_model = LinearRegression()\n",
    "\n",
    "stages = [('imp_median', imp_median),\n",
    "           ('scale', scale),\n",
    "           ('lr_model', lr_model)\n",
    "           ]\n",
    "\n",
    "pipe_model = Pipeline(stages)\n",
    "           \n",
    "pipe_model.fit(X,y)\n",
    "\n",
    "y_pred = pipe_model.predict(X)\n",
    "print('Results for pipeline linear regression on training data')\n",
    "# print('  Default settings')\n",
    "# print('Internal parameters:')\n",
    "print('   Bias is ', pipe_model.predict([[0,0]]))\n",
    "#print('   Coefficients', lr_model.coef_)\n",
    "print('   Score', pipe_model.score(X,y))\n",
    "\n",
    "print('MAE is  ', mean_absolute_error(y, y_pred))\n",
    "print('RMSE is ', np.sqrt(mean_squared_error(y, y_pred)))\n",
    "print('MSE is ', mean_squared_error(y, y_pred))\n",
    "print('R^2    ', r2_score(y,y_pred))\n",
    "\n",
    "y_test_pred = pipe_model.predict(X_test)\n",
    "print()\n",
    "print('Results for pipeline linear regression on test data')\n",
    "\n",
    "print('MAE is  ', mean_absolute_error(y_test, y_test_pred))\n",
    "print('RMSE is ', np.sqrt(mean_squared_error(y_test, y_test_pred)))\n",
    "print('MSE is ', mean_squared_error(y_test, y_test_pred))\n",
    "print('R^2    ', r2_score(y_test,y_test_pred))"
   ]
  },
  {
   "cell_type": "markdown",
   "id": "38f8d5ae-bdc7-4030-afa6-842628894df4",
   "metadata": {},
   "source": [
    "### Pipeline 2 Linear Regression Model"
   ]
  },
  {
   "cell_type": "code",
   "execution_count": 8,
   "id": "cd38d7b3-e116-46e5-a156-8cd92ef71dc6",
   "metadata": {},
   "outputs": [
    {
     "name": "stdout",
     "output_type": "stream",
     "text": [
      "Results for pipeline linear regression on training data\n",
      "   Bias is  [-56.20592138]\n",
      "   Score 0.7443735079842804\n",
      "MAE is   2.93013365028998\n",
      "RMSE is  3.966299965430602\n",
      "MSE is  15.731535415774793\n",
      "R^2     0.7443735079842804\n",
      "\n",
      "Results for pipeline linear regression on test data\n",
      "MAE is   3.061382942619044\n",
      "RMSE is  4.038216018241966\n",
      "MSE is  16.307188609986\n",
      "R^2     0.7204111297614427\n"
     ]
    },
    {
     "name": "stderr",
     "output_type": "stream",
     "text": [
      "/opt/miniconda3/envs/sklearn-env/lib/python3.10/site-packages/sklearn/base.py:450: UserWarning: X does not have valid feature names, but SimpleImputer was fitted with feature names\n",
      "  warnings.warn(\n"
     ]
    }
   ],
   "source": [
    "from sklearn.linear_model import LinearRegression\n",
    "from sklearn.metrics import mean_absolute_error\n",
    "from sklearn.metrics import mean_squared_error\n",
    "from sklearn.metrics import r2_score\n",
    "from sklearn.pipeline import Pipeline\n",
    "from sklearn.impute import SimpleImputer\n",
    "from sklearn.preprocessing import PolynomialFeatures\n",
    "from sklearn.preprocessing import StandardScaler\n",
    "\n",
    "X = train_set[['cylinders', 'weight']]\n",
    "y = train_set['mpg']\n",
    "\n",
    "X_test = test_set[['cylinders', 'weight']]\n",
    "y_test = test_set['mpg']\n",
    "\n",
    "imp_median = SimpleImputer(missing_values=np.nan, strategy='median')\n",
    "poly3 = PolynomialFeatures(degree=3, include_bias=False)\n",
    "scale = StandardScaler()\n",
    "\n",
    "lr_model = LinearRegression()\n",
    "\n",
    "stages = [('imp_median', imp_median),\n",
    "           ('poly3',poly3),\n",
    "           ('scale', scale),\n",
    "           ('lr_model', lr_model)\n",
    "           ]\n",
    "\n",
    "pipe_model = Pipeline(stages)\n",
    "           \n",
    "pipe_model.fit(X,y)\n",
    "\n",
    "y_pred = pipe_model.predict(X)\n",
    "print('Results for pipeline linear regression on training data')\n",
    "# print('  Default settings')\n",
    "# print('Internal parameters:')\n",
    "print('   Bias is ', pipe_model.predict([[0,0]]))\n",
    "#print('   Coefficients', lr_model.coef_)\n",
    "print('   Score', pipe_model.score(X,y))\n",
    "\n",
    "print('MAE is  ', mean_absolute_error(y, y_pred))\n",
    "print('RMSE is ', np.sqrt(mean_squared_error(y, y_pred)))\n",
    "print('MSE is ', mean_squared_error(y, y_pred))\n",
    "print('R^2    ', r2_score(y,y_pred))\n",
    "\n",
    "y_test_pred = pipe_model.predict(X_test)\n",
    "print()\n",
    "print('Results for pipeline linear regression on test data')\n",
    "\n",
    "print('MAE is  ', mean_absolute_error(y_test, y_test_pred))\n",
    "print('RMSE is ', np.sqrt(mean_squared_error(y_test, y_test_pred)))\n",
    "print('MSE is ', mean_squared_error(y_test, y_test_pred))\n",
    "print('R^2    ', r2_score(y_test,y_test_pred))"
   ]
  },
  {
   "cell_type": "markdown",
   "id": "d237f7d6-a7f7-4cde-b355-c271dd7051c7",
   "metadata": {},
   "source": [
    "### Results\n",
    "\n",
    "Internal parameters for regression models to predict mpg on the autompg data.\n",
    "\n",
    "| Model | Training Features | Bias | Coefficients | Score |\n",
    "|:---|:---|:---|:---|:---|\n",
    "|Linear Regression|Cylinders, Weight|46.37|-0.6108, -0.0065|0.6996|\n",
    "\n",
    "Basic results for our regression models to predict mpg on the autompg data.\n",
    "\n",
    "| Model | Training Features | Set | RMSE | R2 |\n",
    "|:---|:---|:---|:---|:---|\n",
    "|Linear Regression|Cylinders, Weight|Training|4.30|69.96|\n",
    "|Linear Regression|Cylinders, Weight|Test|4.32|68.05|\n",
    "|Pipeline 1|Cylinders, Weight|Training|4.30|69.96|\n",
    "|Pipeline 1|Cylinders, Weight|Test|4.32|68.05|\n",
    "|Pipeline 2|Cylinders, Weight|Training|3.97|74.43|\n",
    "|Pipeline 2|Cylinders, Weight|Test|4.04|72.05|"
   ]
  }
 ],
 "metadata": {
  "kernelspec": {
   "display_name": "Python 3 (ipykernel)",
   "language": "python",
   "name": "python3"
  },
  "language_info": {
   "codemirror_mode": {
    "name": "ipython",
    "version": 3
   },
   "file_extension": ".py",
   "mimetype": "text/x-python",
   "name": "python",
   "nbconvert_exporter": "python",
   "pygments_lexer": "ipython3",
   "version": "3.10.5"
  }
 },
 "nbformat": 4,
 "nbformat_minor": 5
}
