{
 "cells": [
  {
   "cell_type": "markdown",
   "id": "59abf76e-c3e8-49f2-9d24-ac0c03f50adb",
   "metadata": {},
   "source": [
    "# Chapter 6: Decision Trees"
   ]
  },
  {
   "cell_type": "markdown",
   "id": "30a3bc6f-1cf6-4d03-a401-e11c606c24d9",
   "metadata": {},
   "source": [
    "### Training and Visualizing a Decision Tree"
   ]
  },
  {
   "cell_type": "code",
   "execution_count": 5,
   "id": "870ff0b0-925f-4347-8481-8e44936d5105",
   "metadata": {},
   "outputs": [
    {
     "data": {
      "text/html": [
       "<style>#sk-container-id-2 {color: black;background-color: white;}#sk-container-id-2 pre{padding: 0;}#sk-container-id-2 div.sk-toggleable {background-color: white;}#sk-container-id-2 label.sk-toggleable__label {cursor: pointer;display: block;width: 100%;margin-bottom: 0;padding: 0.3em;box-sizing: border-box;text-align: center;}#sk-container-id-2 label.sk-toggleable__label-arrow:before {content: \"▸\";float: left;margin-right: 0.25em;color: #696969;}#sk-container-id-2 label.sk-toggleable__label-arrow:hover:before {color: black;}#sk-container-id-2 div.sk-estimator:hover label.sk-toggleable__label-arrow:before {color: black;}#sk-container-id-2 div.sk-toggleable__content {max-height: 0;max-width: 0;overflow: hidden;text-align: left;background-color: #f0f8ff;}#sk-container-id-2 div.sk-toggleable__content pre {margin: 0.2em;color: black;border-radius: 0.25em;background-color: #f0f8ff;}#sk-container-id-2 input.sk-toggleable__control:checked~div.sk-toggleable__content {max-height: 200px;max-width: 100%;overflow: auto;}#sk-container-id-2 input.sk-toggleable__control:checked~label.sk-toggleable__label-arrow:before {content: \"▾\";}#sk-container-id-2 div.sk-estimator input.sk-toggleable__control:checked~label.sk-toggleable__label {background-color: #d4ebff;}#sk-container-id-2 div.sk-label input.sk-toggleable__control:checked~label.sk-toggleable__label {background-color: #d4ebff;}#sk-container-id-2 input.sk-hidden--visually {border: 0;clip: rect(1px 1px 1px 1px);clip: rect(1px, 1px, 1px, 1px);height: 1px;margin: -1px;overflow: hidden;padding: 0;position: absolute;width: 1px;}#sk-container-id-2 div.sk-estimator {font-family: monospace;background-color: #f0f8ff;border: 1px dotted black;border-radius: 0.25em;box-sizing: border-box;margin-bottom: 0.5em;}#sk-container-id-2 div.sk-estimator:hover {background-color: #d4ebff;}#sk-container-id-2 div.sk-parallel-item::after {content: \"\";width: 100%;border-bottom: 1px solid gray;flex-grow: 1;}#sk-container-id-2 div.sk-label:hover label.sk-toggleable__label {background-color: #d4ebff;}#sk-container-id-2 div.sk-serial::before {content: \"\";position: absolute;border-left: 1px solid gray;box-sizing: border-box;top: 0;bottom: 0;left: 50%;z-index: 0;}#sk-container-id-2 div.sk-serial {display: flex;flex-direction: column;align-items: center;background-color: white;padding-right: 0.2em;padding-left: 0.2em;position: relative;}#sk-container-id-2 div.sk-item {position: relative;z-index: 1;}#sk-container-id-2 div.sk-parallel {display: flex;align-items: stretch;justify-content: center;background-color: white;position: relative;}#sk-container-id-2 div.sk-item::before, #sk-container-id-2 div.sk-parallel-item::before {content: \"\";position: absolute;border-left: 1px solid gray;box-sizing: border-box;top: 0;bottom: 0;left: 50%;z-index: -1;}#sk-container-id-2 div.sk-parallel-item {display: flex;flex-direction: column;z-index: 1;position: relative;background-color: white;}#sk-container-id-2 div.sk-parallel-item:first-child::after {align-self: flex-end;width: 50%;}#sk-container-id-2 div.sk-parallel-item:last-child::after {align-self: flex-start;width: 50%;}#sk-container-id-2 div.sk-parallel-item:only-child::after {width: 0;}#sk-container-id-2 div.sk-dashed-wrapped {border: 1px dashed gray;margin: 0 0.4em 0.5em 0.4em;box-sizing: border-box;padding-bottom: 0.4em;background-color: white;}#sk-container-id-2 div.sk-label label {font-family: monospace;font-weight: bold;display: inline-block;line-height: 1.2em;}#sk-container-id-2 div.sk-label-container {text-align: center;}#sk-container-id-2 div.sk-container {/* jupyter's `normalize.less` sets `[hidden] { display: none; }` but bootstrap.min.css set `[hidden] { display: none !important; }` so we also need the `!important` here to be able to override the default hidden behavior on the sphinx rendered scikit-learn.org. See: https://github.com/scikit-learn/scikit-learn/issues/21755 */display: inline-block !important;position: relative;}#sk-container-id-2 div.sk-text-repr-fallback {display: none;}</style><div id=\"sk-container-id-2\" class=\"sk-top-container\"><div class=\"sk-text-repr-fallback\"><pre>DecisionTreeClassifier(max_depth=2)</pre><b>In a Jupyter environment, please rerun this cell to show the HTML representation or trust the notebook. <br />On GitHub, the HTML representation is unable to render, please try loading this page with nbviewer.org.</b></div><div class=\"sk-container\" hidden><div class=\"sk-item\"><div class=\"sk-estimator sk-toggleable\"><input class=\"sk-toggleable__control sk-hidden--visually\" id=\"sk-estimator-id-2\" type=\"checkbox\" checked><label for=\"sk-estimator-id-2\" class=\"sk-toggleable__label sk-toggleable__label-arrow\">DecisionTreeClassifier</label><div class=\"sk-toggleable__content\"><pre>DecisionTreeClassifier(max_depth=2)</pre></div></div></div></div></div>"
      ],
      "text/plain": [
       "DecisionTreeClassifier(max_depth=2)"
      ]
     },
     "execution_count": 5,
     "metadata": {},
     "output_type": "execute_result"
    }
   ],
   "source": [
    "from sklearn.datasets import load_iris\n",
    "from sklearn.tree import DecisionTreeClassifier\n",
    "\n",
    "iris = load_iris()\n",
    "X = iris.data[:, 2:] # petal length and width\n",
    "y = iris.target\n",
    "\n",
    "tree_clf = DecisionTreeClassifier(max_depth=2)\n",
    "tree_clf.fit(X, y)\n",
    "\n",
    "# Decision Trees don't require feature scaling or centering at all"
   ]
  },
  {
   "cell_type": "code",
   "execution_count": 6,
   "id": "ecb5e1d1-2572-4398-9991-2464232977bd",
   "metadata": {},
   "outputs": [
    {
     "ename": "NameError",
     "evalue": "name 'image_path' is not defined",
     "output_type": "error",
     "traceback": [
      "\u001b[0;31m---------------------------------------------------------------------------\u001b[0m",
      "\u001b[0;31mNameError\u001b[0m                                 Traceback (most recent call last)",
      "Input \u001b[0;32mIn [6]\u001b[0m, in \u001b[0;36m<cell line: 5>\u001b[0;34m()\u001b[0m\n\u001b[1;32m      1\u001b[0m \u001b[38;5;66;03m# Visualize the trained Decision Tree by first using the export_graphviz() method to output a graph definition file\u001b[39;00m\n\u001b[1;32m      3\u001b[0m \u001b[38;5;28;01mfrom\u001b[39;00m \u001b[38;5;21;01msklearn\u001b[39;00m\u001b[38;5;21;01m.\u001b[39;00m\u001b[38;5;21;01mtree\u001b[39;00m \u001b[38;5;28;01mimport\u001b[39;00m export_graphviz\n\u001b[1;32m      5\u001b[0m export_graphviz(\n\u001b[1;32m      6\u001b[0m     tree_clf,\n\u001b[0;32m----> 7\u001b[0m     out_file\u001b[38;5;241m=\u001b[39m\u001b[43mimage_path\u001b[49m(\u001b[38;5;124m'\u001b[39m\u001b[38;5;124miris_tree.dot\u001b[39m\u001b[38;5;124m'\u001b[39m),\n\u001b[1;32m      8\u001b[0m     feature_names\u001b[38;5;241m=\u001b[39miris\u001b[38;5;241m.\u001b[39mfeature_names[\u001b[38;5;241m2\u001b[39m:],\n\u001b[1;32m      9\u001b[0m     class_names\u001b[38;5;241m=\u001b[39miris\u001b[38;5;241m.\u001b[39mtarget_names,\n\u001b[1;32m     10\u001b[0m     rounded\u001b[38;5;241m=\u001b[39m\u001b[38;5;28;01mTrue\u001b[39;00m,\n\u001b[1;32m     11\u001b[0m     filled\u001b[38;5;241m=\u001b[39m\u001b[38;5;28;01mTrue\u001b[39;00m\n\u001b[1;32m     12\u001b[0m )\n",
      "\u001b[0;31mNameError\u001b[0m: name 'image_path' is not defined"
     ]
    }
   ],
   "source": [
    "# Visualize the trained Decision Tree by first using the export_graphviz() method to output a graph definition file\n",
    "\n",
    "from sklearn.tree import export_graphviz\n",
    "\n",
    "export_graphviz(\n",
    "    tree_clf,\n",
    "    out_file=image_path('iris_tree.dot'),\n",
    "    feature_names=iris.feature_names[2:],\n",
    "    class_names=iris.target_names,\n",
    "    rounded=True,\n",
    "    filled=True\n",
    ")\n",
    "\n"
   ]
  },
  {
   "cell_type": "markdown",
   "id": "76f63362-496e-44e4-8174-b95890b1c584",
   "metadata": {},
   "source": [
    "### Making Predictions\n",
    "- A node's samples attribute counts how many training instances it applies to\n",
    "- A node's value attribute tells you how many training instances of each class this node applies to\n",
    "- A node's gini measures its impurity (a node is 0 if all training instances below to the same class)\n",
    "- Scikit-Learn uses the CART algorithm, which produces only binary trees\n",
    "- However, other algorithms such as ID3 can produce Decision Trees with nodes that have more than two children\n"
   ]
  },
  {
   "cell_type": "markdown",
   "id": "18492d8c-cfba-4c91-aca9-ff7840f6b00e",
   "metadata": {},
   "source": [
    "### Model Interpretation: White Box vs. Black Box\n",
    "- Decision trees are easy to interpret - such models are called white box models\n",
    "- Random Forests or neural networks are generally considered black box models\n",
    "- Black box models can make great predictions, but it is usually hard to explain in simple terms why the predictions were made"
   ]
  },
  {
   "cell_type": "markdown",
   "id": "e7db84da-f1da-4078-bc56-408b53cad3e7",
   "metadata": {},
   "source": [
    "### Estimating Class Probabilities\n",
    "- A Decision Tree model can estimate the probability that an instance belongs to a particular class k"
   ]
  },
  {
   "cell_type": "code",
   "execution_count": 8,
   "id": "f9ba80fb-a0bd-4b89-bf74-02179ef7fce6",
   "metadata": {},
   "outputs": [
    {
     "data": {
      "text/plain": [
       "array([[0.        , 0.90740741, 0.09259259]])"
      ]
     },
     "execution_count": 8,
     "metadata": {},
     "output_type": "execute_result"
    }
   ],
   "source": [
    "tree_clf.predict_proba([[5, 1.5]])"
   ]
  },
  {
   "cell_type": "code",
   "execution_count": 9,
   "id": "4791f3ae-dc56-4aab-96ee-b06a8dcc2930",
   "metadata": {},
   "outputs": [
    {
     "data": {
      "text/plain": [
       "array([1])"
      ]
     },
     "execution_count": 9,
     "metadata": {},
     "output_type": "execute_result"
    }
   ],
   "source": [
    "tree_clf.predict([[5, 1.5]])"
   ]
  },
  {
   "cell_type": "markdown",
   "id": "eb4c4bdc-2b79-4dd1-8888-c3c27b68ccc5",
   "metadata": {},
   "source": [
    "### The CART Training Algorithm\n",
    "- Scikit-LEarn uses the Classification and Regression Tree (CART) algorithm to train decision trees\n",
    "- The algorithm works by first splitting the training set into two subsets using a single feature k and a threshold of k\n",
    "- It searches for the pair that prodcues the purest subsets (weighted by their size)\n",
    "- Then it splits the subsets using the same logic and so on\n",
    "- It stops recursing once it reaches the maximum depth or if it cannot find a split that will reduce impurity\n",
    "- A few other hyperparameters control additional stopping conditions: min_samples_split, min_samples_leaf, min_weight_fraction_leaf, max_leaf_nodes\n",
    "- The CART algorithm is a greedy algorithm: it greedily searches for optimum splits only at its level - it does not check whether or not the split will lead to the lowest possible impurity several levels down\n",
    "- A greedy algorithm often produces good byt not optimal solutions\n",
    "- Finding the optimal tree requires too much training time"
   ]
  },
  {
   "cell_type": "markdown",
   "id": "0dafe22f-6164-481e-b423-1a49cab02ca3",
   "metadata": {},
   "source": [
    "### Computational Complexity\n",
    "- Traversing the Decision Tree requires approximately O(log2(m)) nodes\n",
    "- Predictions are very fast even when dealing with large training sets\n",
    "- The training algorithm compares all features (or less if max_features is set) on all samples at each node\n",
    "- For small training sets (less than a few thousand), Scikit-Learn can speed up training by presorting the data (set presort=True), but this slows down training considerably for large data sets"
   ]
  },
  {
   "cell_type": "markdown",
   "id": "d9fc2b55-52ca-4a26-900f-dbb5e4756588",
   "metadata": {},
   "source": [
    "### Gini Impurity or Entropy\n",
    "- By default the gini impurity measure is used, but you can select the entropy impurity measure instead by setting the criterion hyperparameter to 'entropy'\n",
    "- Entropy is frequently used as an impurity measure: a set's entropy is zero when it contains instances of only one class\n",
    "- Most of the time it does not make a big difference which you use\n",
    "- Gini is slightly faster to compute\n",
    "- When they differ, Gini tends to isolate the most frequent class in its own branch of the tree, while entropy tends to produce slightly more balanced trees"
   ]
  }
 ],
 "metadata": {
  "kernelspec": {
   "display_name": "Python 3 (ipykernel)",
   "language": "python",
   "name": "python3"
  },
  "language_info": {
   "codemirror_mode": {
    "name": "ipython",
    "version": 3
   },
   "file_extension": ".py",
   "mimetype": "text/x-python",
   "name": "python",
   "nbconvert_exporter": "python",
   "pygments_lexer": "ipython3",
   "version": "3.10.5"
  }
 },
 "nbformat": 4,
 "nbformat_minor": 5
}
