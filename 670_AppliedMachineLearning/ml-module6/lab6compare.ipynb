{
 "cells": [
  {
   "cell_type": "code",
   "execution_count": 6,
   "id": "d1573061-470a-44d2-8f5b-152c1a40ea22",
   "metadata": {},
   "outputs": [],
   "source": [
    "import pickle\n",
    "filename = 'finalized_model.sav'\n",
    "loaded_model = pickle.load(open(filename, 'rb'))"
   ]
  },
  {
   "cell_type": "code",
   "execution_count": 8,
   "id": "890d5b5e-fa14-4fcf-950d-e34ad3eaa991",
   "metadata": {},
   "outputs": [
    {
     "name": "stdout",
     "output_type": "stream",
     "text": [
      "Input heights:  [[0], [50], [100], [150], [175], [200]]\n",
      "Predicted weights are:  [-166.29034128   -1.39346992   13.32603623   41.40189304   56.42986106\n",
      "   44.77557652]\n"
     ]
    },
    {
     "name": "stderr",
     "output_type": "stream",
     "text": [
      "/opt/miniconda3/envs/sklearn-env/lib/python3.10/site-packages/sklearn/base.py:450: UserWarning: X does not have valid feature names, but SimpleImputer was fitted with feature names\n",
      "  warnings.warn(\n"
     ]
    }
   ],
   "source": [
    "# heights to check\n",
    "heights = [[0], [50], [100], [150], [175], [200]]\n",
    "weights = loaded_model.predict(heights)\n",
    "print('Input heights: ', heights)\n",
    "print('Predicted weights are: ', weights)"
   ]
  }
 ],
 "metadata": {
  "kernelspec": {
   "display_name": "Python 3 (ipykernel)",
   "language": "python",
   "name": "python3"
  },
  "language_info": {
   "codemirror_mode": {
    "name": "ipython",
    "version": 3
   },
   "file_extension": ".py",
   "mimetype": "text/x-python",
   "name": "python",
   "nbconvert_exporter": "python",
   "pygments_lexer": "ipython3",
   "version": "3.10.5"
  }
 },
 "nbformat": 4,
 "nbformat_minor": 5
}
